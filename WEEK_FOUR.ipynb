{
 "cells": [
  {
   "cell_type": "markdown",
   "metadata": {},
   "source": [
    "<h1>The Battle Of Neighbourhoods<h1>\n",
    "<h2>Part 1<h2>\n",
    "<h3>INTRODUCTION: <h3>\n",
    "The purpose of this project is to determine which neighborhood in the borough of Downtown Toronto in Canada would be suitable to open a Coffee Shop . A Coffee Shop is a very popular place in any locality .This is a spot which can be utilised by college students to study , provides a productive and a social environment , a chitchat with friends in a casual and a relaxing way , etc . One of the hotspot business center would be a 'Coffee shop'.In order to deal with these variety of people and thier needs , apart from coffee , the coffee shops are beginning to add extra services and events like lunch items, hosting open mic and offering free Wi-Fi to their establishment that would attract more customers. The company gains are significant if they are placed in an ideal locality where the competition would be less . This is a very important factor in cases where it is a new-born firm. Facing other well established competitors in the market field and creating an impact on the public would be difficult. In such cases , an ideal location would help the company grow significantly .\n",
    "\n",
    "<h3>BUSINESS PROBLEM :<h3> \n",
    "This project would assist a Coffee Shop owner to analyse the different neighborhoods in Downtown and decide where he could start/expand his enterprise that would provide him more profits without much competition. As discussed above , inspecting the location of a firm has it's own benefits\n",
    "<h3>DATA<h3>\n",
    "To solve the problem , we would need:\n",
    "\n",
    "The various boroughs and neighborhoods in Toronto , Canada\n",
    "The location coordinates(latitudes , longitudes) of the various neighborhoods\n",
    "Venue data of the various neighbourhoods\n",
    "The various boroughs and the neighbourhoods in Toronto ,Canada can be obtained from The Wikipedia page (https://en.wikipedia.org/wiki/List_of_postal_codes_of_Canada:_M).\n",
    "\n",
    "We must use web scrapping method to web scrap the wikipedia page , wrangle the data ,clean it and read it into a pandas dataframe . We will be using the BeautifulSoup package for this purpose .\n",
    "\n",
    "In order to get the coordinates , we use the Geocoder package . We also use the Folium package to visualze the maps.\n",
    "\n",
    "We use the FourSquare API to get the venues for the various neighborhoods.\n",
    "\n",
    "Finally , we apply the Machine Learning technique of 'Clustering' to find out which zone in Downtown Toronto would be suitable to start a Coffee Shop .\n",
    "\n",
    "The other libraries used in the course of the project are :\n",
    "\n",
    "Pandas for data manipulationa and analysis\n",
    "1>Scikit-Learn to apply Clustering Technique\n",
    "2>XML\n",
    "3>JSON"
   ]
  },
  {
   "cell_type": "code",
   "execution_count": null,
   "metadata": {},
   "outputs": [],
   "source": []
  }
 ],
 "metadata": {
  "kernelspec": {
   "display_name": "Python 3",
   "language": "python",
   "name": "python3"
  },
  "language_info": {
   "codemirror_mode": {
    "name": "ipython",
    "version": 3
   },
   "file_extension": ".py",
   "mimetype": "text/x-python",
   "name": "python",
   "nbconvert_exporter": "python",
   "pygments_lexer": "ipython3",
   "version": "3.7.4"
  }
 },
 "nbformat": 4,
 "nbformat_minor": 2
}
