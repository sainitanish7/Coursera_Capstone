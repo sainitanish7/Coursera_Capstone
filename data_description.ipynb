{
 "cells": [
  {
   "cell_type": "markdown",
   "metadata": {},
   "source": [
    "<h1>The battle of Neighbourhoods | Data Description<h1>\n",
    "    \n",
    "<h1>Data Description:<h1>\n",
    "<h5>Data link:https://en.wikipedia.org/wiki/List_of_postal_codes_of_Canada:_M<h5>\n",
    "\n",
    "<h2>Foursquare API Data:<h2>\n",
    "Since we need data from different venues in different neighborhoods of that specific borough, we will use \"Foursquare\" locational information. Such information includes venue names, locations, menus and even photos. The information per cenue concludes: Neighborhood and its Latitude, Longitude, Venue and its name, latitude, longitude and category."
   ]
  },
  {
   "cell_type": "code",
   "execution_count": null,
   "metadata": {},
   "outputs": [],
   "source": []
  },
  {
   "cell_type": "code",
   "execution_count": null,
   "metadata": {},
   "outputs": [],
   "source": []
  }
 ],
 "metadata": {
  "kernelspec": {
   "display_name": "Python 3",
   "language": "python",
   "name": "python3"
  },
  "language_info": {
   "codemirror_mode": {
    "name": "ipython",
    "version": 3
   },
   "file_extension": ".py",
   "mimetype": "text/x-python",
   "name": "python",
   "nbconvert_exporter": "python",
   "pygments_lexer": "ipython3",
   "version": "3.7.4"
  }
 },
 "nbformat": 4,
 "nbformat_minor": 2
}
